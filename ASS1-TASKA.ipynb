{
 "cells": [
  {
   "cell_type": "code",
   "execution_count": 240,
   "metadata": {},
   "outputs": [
    {
     "name": "stdout",
     "output_type": "stream",
     "text": [
      "Enter youe phraseHello World\n",
      "World Hello\n"
     ]
    }
   ],
   "source": [
    "#ASS.1_TASK1A_1\n",
    "word1,word2 = input(\"Enter youe phrase\").split()\n",
    "print(word2,word1)\n",
    "   "
   ]
  },
  {
   "cell_type": "code",
   "execution_count": 243,
   "metadata": {},
   "outputs": [
    {
     "name": "stdout",
     "output_type": "stream",
     "text": [
      "DAI HESHAM\n"
     ]
    }
   ],
   "source": [
    "#ASS.1_TASK1A_2\n",
    "class upper_case:\n",
    "    def get_string(self,entry):\n",
    "        self.entry=entry\n",
    "    def print_string(self):\n",
    "        print(self.entry.upper())\n",
    "obj1=upper_case()\n",
    "obj1.get_string(\"dai hesham\")\n",
    "obj1.print_string()"
   ]
  },
  {
   "cell_type": "code",
   "execution_count": 239,
   "metadata": {},
   "outputs": [
    {
     "name": "stdout",
     "output_type": "stream",
     "text": [
      "12\n"
     ]
    }
   ],
   "source": [
    "#ASS.1_TASK1A_3\n",
    "class rectangle:\n",
    "    def compute_area(self,length,width):\n",
    "        print(length*width)\n",
    "rect1=rectangle()\n",
    "rect1.compute_area(4,3)"
   ]
  },
  {
   "cell_type": "code",
   "execution_count": 255,
   "metadata": {},
   "outputs": [
    {
     "name": "stdout",
     "output_type": "stream",
     "text": [
      "50.26548245743669\n",
      "25.132741228718345\n"
     ]
    }
   ],
   "source": [
    "#ASS.1_TASK1A_4\n",
    "import math\n",
    "class circle:\n",
    "    radious=\"\"\n",
    "    def compute_area(self):\n",
    "        print(math.pi*self.radious**2)\n",
    "    def compute_perimeter(self):\n",
    "        print(2*math.pi*self.radious)\n",
    "circ1=circle()\n",
    "circ1.radious=4\n",
    "circ1.compute_area()\n",
    "circ1.compute_perimeter()"
   ]
  },
  {
   "cell_type": "code",
   "execution_count": null,
   "metadata": {},
   "outputs": [],
   "source": []
  }
 ],
 "metadata": {
  "kernelspec": {
   "display_name": "Python 3",
   "language": "python",
   "name": "python3"
  },
  "language_info": {
   "codemirror_mode": {
    "name": "ipython",
    "version": 3
   },
   "file_extension": ".py",
   "mimetype": "text/x-python",
   "name": "python",
   "nbconvert_exporter": "python",
   "pygments_lexer": "ipython3",
   "version": "3.7.0"
  }
 },
 "nbformat": 4,
 "nbformat_minor": 2
}
